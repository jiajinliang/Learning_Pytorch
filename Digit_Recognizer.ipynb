{
 "cells": [
  {
   "cell_type": "markdown",
   "metadata": {},
   "source": [
    "### Handwritten digit recognition using PyTorch\n",
    "Source: https://medium.com/@athul929/hand-written-digit-classifier-in-pytorch-42a53e92b63e\n",
    "\n"
   ]
  },
  {
   "cell_type": "code",
   "execution_count": 1,
   "metadata": {},
   "outputs": [],
   "source": [
    "import torch\n",
    "import torch.nn as nn\n",
    "import torchvision\n",
    "import torchvision.transforms as transforms"
   ]
  },
  {
   "cell_type": "code",
   "execution_count": 2,
   "metadata": {},
   "outputs": [],
   "source": [
    "train_dataset = torchvision.datasets.MNIST(root='./data',train=True, transform=transforms.ToTensor(), download=True)\n",
    "\n",
    "test_dataset = torchvision.datasets.MNIST(root='./data',train=False, transform=transforms.ToTensor(),download = True)\n",
    "\n",
    "\n",
    "train_loader = torch.utils.data.DataLoader(dataset=train_dataset, batch_size=100, shuffle=True)\n",
    "\n",
    "test_loader = torch.utils.data.DataLoader(dataset=test_dataset,  batch_size=100, shuffle=False)"
   ]
  },
  {
   "cell_type": "markdown",
   "metadata": {},
   "source": [
    "### Data visualization\n",
    "source: https://www.kaggle.com/vincentlefoulon/pytorch-mnist"
   ]
  },
  {
   "cell_type": "code",
   "execution_count": 3,
   "metadata": {},
   "outputs": [
    {
     "name": "stdout",
     "output_type": "stream",
     "text": [
      "('Current size:', [12, 9])\n",
      "('Labels: ', tensor([5, 7, 3, 7, 4, 9, 8, 1, 5, 1, 2, 2, 2, 7, 8, 2, 9, 2, 2, 2, 7, 0, 3, 1,\n",
      "        0, 7, 8, 4, 5, 1, 7, 5, 2, 0, 4, 1, 6, 0, 8, 7, 3, 5, 8, 1, 1, 2, 3, 3,\n",
      "        6, 2, 9, 9, 0, 6, 5, 2, 4, 6, 4, 5, 4, 3, 9, 2, 8, 3, 8, 8, 8, 3, 4, 7,\n",
      "        8, 0, 8, 5, 8, 0, 2, 9, 7, 0, 2, 7, 7, 4, 1, 6, 2, 3, 0, 7, 7, 4, 0, 2,\n",
      "        0, 3, 4, 2]))\n",
      "('Batch shape: ', torch.Size([100, 1, 28, 28]))\n"
     ]
    }
   ],
   "source": [
    "import matplotlib.pyplot as plt\n",
    "import numpy as np\n",
    "\n",
    "# Get current size\n",
    "fig_size = plt.rcParams[\"figure.figsize\"]\n",
    "# Set figure width to 12 and height to 9\n",
    "fig_size[0] = 12\n",
    "fig_size[1] = 9\n",
    "plt.rcParams[\"figure.figsize\"] = fig_size\n",
    "print (\"Current size:\", fig_size)\n",
    "\n",
    "def show_batch(batch):\n",
    "    im = torchvision.utils.make_grid(batch)\n",
    "    plt.imshow(np.transpose(im.numpy(), (1, 2, 0)))\n",
    "    #plt.show()\n",
    "\n",
    "dataiter = iter(train_loader)\n",
    "images, labels = dataiter.next()\n",
    "\n",
    "print('Labels: ', labels)\n",
    "print('Batch shape: ', images.size())\n",
    "show_batch(images)"
   ]
  },
  {
   "cell_type": "markdown",
   "metadata": {},
   "source": [
    "### NeuralNet Def"
   ]
  },
  {
   "cell_type": "code",
   "execution_count": 4,
   "metadata": {},
   "outputs": [],
   "source": [
    "\"\"\"A Neural Network with a hidden layer\"\"\"\n",
    "class NeuralNet(nn.Module):\n",
    "    def __init__(self, input_size,hidden_size,output_size):\n",
    "        super(NeuralNet, self).__init__()\n",
    "        self.layer1 = nn.Linear(input_size, hidden_size)\n",
    "        self.layer2 = nn.Linear(hidden_size, output_size)\n",
    "        self.relu = nn.ReLU()\n",
    "\n",
    "    def forward(self, x):\n",
    "        output = self.layer1(x)\n",
    "        output = self.relu(output)\n",
    "        output = self.layer2(output)\n",
    "        return output"
   ]
  },
  {
   "cell_type": "markdown",
   "metadata": {},
   "source": [
    "### Parameter Def"
   ]
  },
  {
   "cell_type": "code",
   "execution_count": 5,
   "metadata": {},
   "outputs": [],
   "source": [
    "input_size = 784\n",
    "hidden_size = 500\n",
    "output_size = 10\n",
    "num_epochs = 5\n",
    "\n",
    "learning_rate = 0.001\n",
    "\n",
    "model = NeuralNet(input_size,hidden_size, output_size)\n",
    "\n",
    "lossFunction = nn.CrossEntropyLoss()\n",
    "optimizer = torch.optim.Adam(model.parameters(), lr=learning_rate)"
   ]
  },
  {
   "cell_type": "markdown",
   "metadata": {},
   "source": [
    "### Training"
   ]
  },
  {
   "cell_type": "code",
   "execution_count": 6,
   "metadata": {},
   "outputs": [
    {
     "name": "stdout",
     "output_type": "stream",
     "text": [
      "Epoch [1/5], Step [100/600], Loss: 0.2847\n",
      "Epoch [1/5], Step [200/600], Loss: 0.2578\n",
      "Epoch [1/5], Step [300/600], Loss: 0.2262\n",
      "Epoch [1/5], Step [400/600], Loss: 0.1238\n",
      "Epoch [1/5], Step [500/600], Loss: 0.3093\n",
      "Epoch [1/5], Step [600/600], Loss: 0.1947\n",
      "Epoch [2/5], Step [100/600], Loss: 0.1324\n",
      "Epoch [2/5], Step [200/600], Loss: 0.2155\n",
      "Epoch [2/5], Step [300/600], Loss: 0.1194\n",
      "Epoch [2/5], Step [400/600], Loss: 0.1410\n",
      "Epoch [2/5], Step [500/600], Loss: 0.0897\n",
      "Epoch [2/5], Step [600/600], Loss: 0.1086\n",
      "Epoch [3/5], Step [100/600], Loss: 0.1254\n",
      "Epoch [3/5], Step [200/600], Loss: 0.0236\n",
      "Epoch [3/5], Step [300/600], Loss: 0.1016\n",
      "Epoch [3/5], Step [400/600], Loss: 0.1034\n",
      "Epoch [3/5], Step [500/600], Loss: 0.0315\n",
      "Epoch [3/5], Step [600/600], Loss: 0.0452\n",
      "Epoch [4/5], Step [100/600], Loss: 0.0587\n",
      "Epoch [4/5], Step [200/600], Loss: 0.1506\n",
      "Epoch [4/5], Step [300/600], Loss: 0.0098\n",
      "Epoch [4/5], Step [400/600], Loss: 0.0715\n",
      "Epoch [4/5], Step [500/600], Loss: 0.0548\n",
      "Epoch [4/5], Step [600/600], Loss: 0.0466\n",
      "Epoch [5/5], Step [100/600], Loss: 0.0458\n",
      "Epoch [5/5], Step [200/600], Loss: 0.0418\n",
      "Epoch [5/5], Step [300/600], Loss: 0.0459\n",
      "Epoch [5/5], Step [400/600], Loss: 0.0360\n",
      "Epoch [5/5], Step [500/600], Loss: 0.0151\n",
      "Epoch [5/5], Step [600/600], Loss: 0.0645\n"
     ]
    },
    {
     "data": {
      "image/png": "[encoded data removed]",
      "text/plain": [
       "<Figure size 432x288 with 1 Axes>"
      ]
     },
     "metadata": {},
     "output_type": "display_data"
    }
   ],
   "source": [
    "total_step = len(train_loader)\n",
    "for epoch in range(num_epochs):\n",
    "    for i, (images,labels) in enumerate(train_loader):\n",
    "        images = images.reshape(-1,28*28)\n",
    "        show_batch(images)\n",
    "        out = model(images)\n",
    "        loss = lossFunction(out,labels)\n",
    "\n",
    "        optimizer.zero_grad()\n",
    "        loss.backward()\n",
    "        optimizer.step()\n",
    "\n",
    "        if (i+1) % 100 == 0:\n",
    "            print('Epoch [{}/{}], Step [{}/{}], Loss: {:.4f}' .format(epoch+1, num_epochs, i+1, total_step, loss.item()))\n"
   ]
  },
  {
   "cell_type": "markdown",
   "metadata": {},
   "source": [
    "### Testing"
   ]
  },
  {
   "cell_type": "code",
   "execution_count": 11,
   "metadata": {},
   "outputs": [
    {
     "name": "stdout",
     "output_type": "stream",
     "text": [
      "Accuracy of the network on the 10000 test images: 100.0 %\n",
      "Accuracy of the network on the 10000 test images: 99.5 %\n",
      "Accuracy of the network on the 10000 test images: 99.0 %\n",
      "Accuracy of the network on the 10000 test images: 98.5 %\n",
      "Accuracy of the network on the 10000 test images: 97.8 %\n",
      "Accuracy of the network on the 10000 test images: 98.0 %\n",
      "Accuracy of the network on the 10000 test images: 98.0 %\n",
      "Accuracy of the network on the 10000 test images: 98.125 %\n",
      "Accuracy of the network on the 10000 test images: 98.2222222222 %\n",
      "Accuracy of the network on the 10000 test images: 98.0 %\n",
      "Accuracy of the network on the 10000 test images: 97.9090909091 %\n",
      "Accuracy of the network on the 10000 test images: 97.9166666667 %\n",
      "Accuracy of the network on the 10000 test images: 97.5384615385 %\n",
      "Accuracy of the network on the 10000 test images: 97.3571428571 %\n",
      "Accuracy of the network on the 10000 test images: 97.5333333333 %\n",
      "Accuracy of the network on the 10000 test images: 97.4375 %\n",
      "Accuracy of the network on the 10000 test images: 97.4117647059 %\n",
      "Accuracy of the network on the 10000 test images: 97.3888888889 %\n",
      "Accuracy of the network on the 10000 test images: 97.3684210526 %\n",
      "Accuracy of the network on the 10000 test images: 97.3 %\n",
      "Accuracy of the network on the 10000 test images: 97.1428571429 %\n",
      "Accuracy of the network on the 10000 test images: 96.9545454545 %\n",
      "Accuracy of the network on the 10000 test images: 97.0 %\n",
      "Accuracy of the network on the 10000 test images: 97.0416666667 %\n",
      "Accuracy of the network on the 10000 test images: 97.0 %\n",
      "Accuracy of the network on the 10000 test images: 97.0769230769 %\n",
      "Accuracy of the network on the 10000 test images: 97.0740740741 %\n",
      "Accuracy of the network on the 10000 test images: 97.1071428571 %\n",
      "Accuracy of the network on the 10000 test images: 97.1379310345 %\n",
      "Accuracy of the network on the 10000 test images: 97.0666666667 %\n",
      "Accuracy of the network on the 10000 test images: 97.0967741935 %\n",
      "Accuracy of the network on the 10000 test images: 97.15625 %\n",
      "Accuracy of the network on the 10000 test images: 97.2424242424 %\n",
      "Accuracy of the network on the 10000 test images: 97.3235294118 %\n",
      "Accuracy of the network on the 10000 test images: 97.3428571429 %\n",
      "Accuracy of the network on the 10000 test images: 97.2222222222 %\n",
      "Accuracy of the network on the 10000 test images: 97.2972972973 %\n",
      "Accuracy of the network on the 10000 test images: 97.2368421053 %\n",
      "Accuracy of the network on the 10000 test images: 97.2564102564 %\n",
      "Accuracy of the network on the 10000 test images: 97.2 %\n",
      "Accuracy of the network on the 10000 test images: 97.1951219512 %\n",
      "Accuracy of the network on the 10000 test images: 97.2380952381 %\n",
      "Accuracy of the network on the 10000 test images: 97.2325581395 %\n",
      "Accuracy of the network on the 10000 test images: 97.2727272727 %\n",
      "Accuracy of the network on the 10000 test images: 97.2666666667 %\n",
      "Accuracy of the network on the 10000 test images: 97.2391304348 %\n",
      "Accuracy of the network on the 10000 test images: 97.2765957447 %\n",
      "Accuracy of the network on the 10000 test images: 97.3125 %\n",
      "Accuracy of the network on the 10000 test images: 97.2448979592 %\n",
      "Accuracy of the network on the 10000 test images: 97.26 %\n",
      "Accuracy of the network on the 10000 test images: 97.2941176471 %\n",
      "Accuracy of the network on the 10000 test images: 97.3461538462 %\n",
      "Accuracy of the network on the 10000 test images: 97.3773584906 %\n",
      "Accuracy of the network on the 10000 test images: 97.4074074074 %\n",
      "Accuracy of the network on the 10000 test images: 97.4363636364 %\n",
      "Accuracy of the network on the 10000 test images: 97.4821428571 %\n",
      "Accuracy of the network on the 10000 test images: 97.4736842105 %\n",
      "Accuracy of the network on the 10000 test images: 97.4827586207 %\n",
      "Accuracy of the network on the 10000 test images: 97.5254237288 %\n",
      "Accuracy of the network on the 10000 test images: 97.4333333333 %\n",
      "Accuracy of the network on the 10000 test images: 97.393442623 %\n",
      "Accuracy of the network on the 10000 test images: 97.435483871 %\n",
      "Accuracy of the network on the 10000 test images: 97.4761904762 %\n",
      "Accuracy of the network on the 10000 test images: 97.515625 %\n",
      "Accuracy of the network on the 10000 test images: 97.5538461538 %\n",
      "Accuracy of the network on the 10000 test images: 97.4848484848 %\n",
      "Accuracy of the network on the 10000 test images: 97.4925373134 %\n",
      "Accuracy of the network on the 10000 test images: 97.5 %\n",
      "Accuracy of the network on the 10000 test images: 97.5217391304 %\n",
      "Accuracy of the network on the 10000 test images: 97.5571428571 %\n",
      "Accuracy of the network on the 10000 test images: 97.5915492958 %\n",
      "Accuracy of the network on the 10000 test images: 97.625 %\n",
      "Accuracy of the network on the 10000 test images: 97.6438356164 %\n",
      "Accuracy of the network on the 10000 test images: 97.6756756757 %\n",
      "Accuracy of the network on the 10000 test images: 97.6933333333 %\n",
      "Accuracy of the network on the 10000 test images: 97.7236842105 %\n",
      "Accuracy of the network on the 10000 test images: 97.7532467532 %\n",
      "Accuracy of the network on the 10000 test images: 97.7692307692 %\n",
      "Accuracy of the network on the 10000 test images: 97.7594936709 %\n",
      "Accuracy of the network on the 10000 test images: 97.775 %\n",
      "Accuracy of the network on the 10000 test images: 97.7777777778 %\n",
      "Accuracy of the network on the 10000 test images: 97.7926829268 %\n",
      "Accuracy of the network on the 10000 test images: 97.7831325301 %\n",
      "Accuracy of the network on the 10000 test images: 97.7857142857 %\n",
      "Accuracy of the network on the 10000 test images: 97.7882352941 %\n",
      "Accuracy of the network on the 10000 test images: 97.7906976744 %\n",
      "Accuracy of the network on the 10000 test images: 97.816091954 %\n",
      "Accuracy of the network on the 10000 test images: 97.8409090909 %\n",
      "Accuracy of the network on the 10000 test images: 97.8651685393 %\n",
      "Accuracy of the network on the 10000 test images: 97.8888888889 %\n",
      "Accuracy of the network on the 10000 test images: 97.8681318681 %\n",
      "Accuracy of the network on the 10000 test images: 97.8913043478 %\n",
      "Accuracy of the network on the 10000 test images: 97.9139784946 %\n",
      "Accuracy of the network on the 10000 test images: 97.9361702128 %\n",
      "Accuracy of the network on the 10000 test images: 97.9578947368 %\n",
      "Accuracy of the network on the 10000 test images: 97.96875 %\n",
      "Accuracy of the network on the 10000 test images: 97.9381443299 %\n",
      "Accuracy of the network on the 10000 test images: 97.8979591837 %\n",
      "Accuracy of the network on the 10000 test images: 97.8888888889 %\n",
      "Accuracy of the network on the 10000 test images: 97.9 %\n"
     ]
    }
   ],
   "source": [
    "with torch.no_grad():\n",
    "    correct = 0\n",
    "    total = 0\n",
    "    for images,labels in test_loader:\n",
    "        images = images.reshape(-1,28*28)\n",
    "        out = model(images)\n",
    "        _,predicted = torch.max(out.data,1)\n",
    "        total += labels.size(0)\n",
    "        correct += (predicted==labels).sum().item()\n",
    "        print('Accuracy of the network on the 10000 test images: {} %'.format(100.0 * correct / total))"
   ]
  },
  {
   "cell_type": "code",
   "execution_count": null,
   "metadata": {},
   "outputs": [],
   "source": []
  }
 ],
 "metadata": {
  "kernelspec": {
   "display_name": "Python 2",
   "language": "python",
   "name": "python2"
  },
  "language_info": {
   "codemirror_mode": {
    "name": "ipython",
    "version": 2
   },
   "file_extension": ".py",
   "mimetype": "text/x-python",
   "name": "python",
   "nbconvert_exporter": "python",
   "pygments_lexer": "ipython2",
   "version": "2.7.15"
  }
 },
 "nbformat": 4,
 "nbformat_minor": 2
}
